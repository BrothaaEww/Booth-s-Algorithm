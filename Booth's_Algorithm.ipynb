{
  "nbformat": 4,
  "nbformat_minor": 0,
  "metadata": {
    "colab": {
      "provenance": [],
      "authorship_tag": "ABX9TyPvvuDONQWcw7qGt+y+bMoy",
      "include_colab_link": true
    },
    "kernelspec": {
      "name": "python3",
      "display_name": "Python 3"
    },
    "language_info": {
      "name": "python"
    }
  },
  "cells": [
    {
      "cell_type": "markdown",
      "metadata": {
        "id": "view-in-github",
        "colab_type": "text"
      },
      "source": [
        "<a href=\"https://colab.research.google.com/github/BrothaaEww/Booth-s-Algorithm/blob/main/Booth's_Algorithm.ipynb\" target=\"_parent\"><img src=\"https://colab.research.google.com/assets/colab-badge.svg\" alt=\"Open In Colab\"/></a>"
      ]
    },
    {
      "cell_type": "code",
      "execution_count": null,
      "metadata": {
        "colab": {
          "base_uri": "https://localhost:8080/"
        },
        "id": "Cn5d1DtMEQ8G",
        "outputId": "2a6bc730-f43d-4815-ecc9-68586336ef97"
      },
      "outputs": [
        {
          "output_type": "stream",
          "name": "stdout",
          "text": [
            "List containing accumulator(ac), multiplier(q) and Qn+1\n",
            "['0', '0', '0', '0', '0', '0', '1', '1', '0']\n",
            "0\n",
            "['0', '1', '1', '1', '0', '0', '1', '1', '0']\n",
            "['0', '0', '1', '1', '1', '0', '0', '1', '1']\n",
            "1\n",
            "['0', '0', '0', '1', '1', '1', '0', '0', '1']\n",
            "2\n",
            "['1', '0', '1', '0', '1', '1', '0', '0', '1']\n",
            "['1', '1', '0', '1', '0', '1', '1', '0', '0']\n",
            "3\n",
            "['1', '1', '1', '0', '1', '0', '1', '1', '0']\n",
            "Final answer: \n",
            "['1', '1', '1', '0', '1', '0', '1', '1', '0']\n"
          ]
        }
      ],
      "source": [
        "def zeroappender(dec_var):      # takes a decimal number & returns a binary list of length four\n",
        "  if dec_var<0:\n",
        "    binlist = [x for x in bin(dec_var)[3: ]]\n",
        "  else:\n",
        "    binlist = [x for x in bin(dec_var)[2: ]]\n",
        "  if len(binlist)<4:\n",
        "    binlist = binlist[::-1]\n",
        "    for i in range((4-len(binlist))):\n",
        "      binlist.append('0')\n",
        "  elif len(binlist)>4:\n",
        "    binlist = binlist[::-1]\n",
        "    binlist = binlist[:4]\n",
        "    binlist = binlist[::-1]\n",
        "    return binlist\n",
        "  else:\n",
        "    return binlist[:4]\n",
        "  return binlist[::-1][:4]\n",
        "\n",
        "\n",
        "def createAC_q_qN1(ac_q_qn1, add_M_or_M2):\n",
        "  accumulator = ''.join(ac_q_qn1[0:4])\n",
        "  add = zeroappender(int(accumulator, 2) + add_M_or_M2)\n",
        "  ac_q_qn1 = add + ac_q_qn1[4: ]\n",
        "  print(ac_q_qn1)\n",
        "  # Arithmetic right shift\n",
        "  ac_q_qn1.pop()\n",
        "  ac_msb = ac_q_qn1[0]\n",
        "  ac_q_qn1 = ac_q_qn1[::-1]\n",
        "  ac_q_qn1.append(ac_msb)\n",
        "  return ac_q_qn1[::-1]\n",
        "\n",
        "\n",
        "ac = list()\n",
        "ac = ['0', '0', '0', '0']\n",
        "# multiplicand = int(input('Enter the multipliacnd: '))\n",
        "# multiplier = int(input('Enter the multiplier: '))\n",
        "multiplicand = -7\n",
        "multiplier = 3\n",
        "\n",
        "multiplicand_2sComp = abs(multiplicand) if multiplicand<0 else (16-multiplicand)\n",
        "multiplicand_2sComplement = [j for j in (zeroappender(abs(multiplicand)) if multiplicand<0 else zeroappender(16-multiplicand))]\n",
        "multiplicand_binary = [i for i in (zeroappender(16 - abs(multiplicand)))] if multiplicand<0 else [k for k in zeroappender(multiplicand)]\n",
        "multiplier_binary = [i for i in (zeroappender(16 - abs(multiplier)))] if multiplier<0 else [k for k in zeroappender(multiplier)]\n",
        "\n",
        "# print(f'Multiplicand: {multiplicand}')\n",
        "# print(f'Multiplicand(Binary): {multiplicand_binary}')\n",
        "# print(f'2S complement of the multiplicand(int): {multiplicand_2sComp}')\n",
        "# print(f'2S complement of the multiplicand(Binary): {multiplicand_2sComplement}')\n",
        "# print(f'Multiplier: {multiplier}')\n",
        "# print(f'Multiplier(Binary): {multiplier_binary}')\n",
        "multi_bin = (16-(0-multiplicand)) if multiplicand<0 else multiplicand\n",
        "\n",
        "ac_q_qn1 = ac + multiplier_binary\n",
        "ac_q_qn1.append('0')\n",
        "print(f'List containing accumulator(ac), multiplier(q) and Qn+1')\n",
        "print(ac_q_qn1)\n",
        "\n",
        "for i in range(len(multiplicand_binary)):\n",
        "  print(i)\n",
        "  if ac_q_qn1[7] == '1' and ac_q_qn1[8] == '0':\n",
        "    ac_q_qn1 = createAC_q_qN1(ac_q_qn1, multiplicand_2sComp)\n",
        "    print(ac_q_qn1)\n",
        "\n",
        "  elif ac_q_qn1[7] == '0' and ac_q_qn1[8] == '1':\n",
        "    ac_q_qn1 = createAC_q_qN1(ac_q_qn1, multi_bin)\n",
        "    print(ac_q_qn1)\n",
        "\n",
        "  elif (ac_q_qn1[7] == '0' and ac_q_qn1[8] == '0') or (ac_q_qn1[7] == '1' and ac_q_qn1[8] == '1'):\n",
        "    ac_q_qn1.pop()\n",
        "    ac_msb = ac_q_qn1[0]\n",
        "    ac_q_qn1 = ac_q_qn1[::-1]\n",
        "    ac_q_qn1.append(ac_msb)\n",
        "    ac_q_qn1 = ac_q_qn1[::-1]\n",
        "    print(ac_q_qn1)\n",
        "\n",
        "  else:\n",
        "    continue\n",
        "\n",
        "print('Final answer: ')\n",
        "print(ac_q_qn1)"
      ]
    }
  ]
}